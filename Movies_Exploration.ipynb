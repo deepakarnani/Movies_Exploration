{
 "cells": [
  {
   "cell_type": "code",
   "execution_count": 1,
   "metadata": {},
   "outputs": [],
   "source": [
    "#import dependencies\n",
    "import pandas as pd\n",
    "from vaderSentiment.vaderSentiment import SentimentIntensityAnalyzer\n",
    "analyzer = SentimentIntensityAnalyzer()\n",
    "import json\n",
    "import statistics\n",
    "import matplotlib.pyplot as plt\n",
    "import numpy as np"
   ]
  },
  {
   "cell_type": "code",
   "execution_count": 2,
   "metadata": {},
   "outputs": [
    {
     "name": "stdout",
     "output_type": "stream",
     "text": [
      "3142\n"
     ]
    }
   ],
   "source": [
    "#read the csv datafile and convert it to dataframe\n",
    "string_lists = pd.read_csv(\"tmdb_5000_movies.csv\")\n",
    "string_lists = pd.DataFrame(string_lists)\n",
    "\n",
    "#clean the data\n",
    "#remove data with not enough votes, as weel as empty cells in columns that are needed\n",
    "clean_df = string_lists.loc[string_lists[\"vote_count\"]>100]\n",
    "clean_df = clean_df.loc[clean_df[\"production_companies\"] != \"[]\"]\n",
    "clean_df = clean_df.loc[clean_df[\"genres\"] != \"[]\"]\n",
    "#remove unnedded columns and reset the index\n",
    "clean_df1 = clean_df[[\"budget\", \"genres\", \"original_title\", \"popularity\", \"production_companies\",\n",
    "                      \"release_date\", \"revenue\", \"runtime\", \"vote_average\", \"vote_count\", \"overview\"]]\n",
    "clean_df1 = clean_df1.reset_index(drop=True)\n",
    "\n",
    "#create a list to add the coumpound polarity scores and add the completed list as a new column to the dataframe\n",
    "compund = []\n",
    "\n",
    "#go through each row and run vader analysis on each\n",
    "for index, row in clean_df1.iterrows():\n",
    "    #append to a variable\n",
    "    results = analyzer.polarity_scores(clean_df1[\"overview\"][index])\n",
    "    #take the compund score and set to a variable\n",
    "    comp = results[\"compound\"]\n",
    "    #append the compund score variable to the compound list\n",
    "    compund.append(comp)\n",
    "\n",
    "#add the compound column to the dataframe    \n",
    "clean_df1[\"compound_score\"] = compund   \n",
    "\n",
    "# clean_df1.head()\n",
    "\n",
    "print(len(clean_df1))\n",
    "# clean_df1"
   ]
  },
  {
   "cell_type": "code",
   "execution_count": 3,
   "metadata": {},
   "outputs": [
    {
     "data": {
      "text/plain": [
       "['Action',\n",
       " 'Adventure',\n",
       " 'Fantasy',\n",
       " 'Science_Fiction',\n",
       " 'Crime',\n",
       " 'Drama',\n",
       " 'Thriller',\n",
       " 'Animation',\n",
       " 'Family',\n",
       " 'Western',\n",
       " 'Comedy',\n",
       " 'Romance',\n",
       " 'Horror',\n",
       " 'Mystery',\n",
       " 'History',\n",
       " 'War',\n",
       " 'Music',\n",
       " 'Documentary',\n",
       " 'TV_Movie']"
      ]
     },
     "execution_count": 3,
     "metadata": {},
     "output_type": "execute_result"
    }
   ],
   "source": [
    "#create of list of genres, first by creating a blank list\n",
    "unique_genres = []\n",
    "\n",
    "#then bygo through each row in the genres column and\n",
    "for row in clean_df1[\"genres\"]:\n",
    "    #load it into a varable using json.loads\n",
    "    jdata = json.loads(row)\n",
    "    #go through each dictionary in in the variable and\n",
    "    for d in jdata:\n",
    "        #check to see if the name has been placed into the unique_genres list yet\n",
    "        if d[\"name\"] not in unique_genres:\n",
    "            #if not, append it to the list\n",
    "            unique_genres.append(d['name'])\n",
    "\n",
    "#Remove spaces from the genres            \n",
    "unique_genres  = [w.replace(\" \", \"_\") for w in unique_genres]            \n",
    "#display the list so each genre can be seen            \n",
    "unique_genres"
   ]
  },
  {
   "cell_type": "code",
   "execution_count": 4,
   "metadata": {},
   "outputs": [],
   "source": [
    "#Create a data frame for each genre to compare with each other\n",
    "\n",
    "#Createan empty list for each genre programmatically\n",
    "for n in unique_genres:\n",
    "    globals()[n] = []\n",
    "\n",
    "\n",
    "#go through each row in the cleaned dataframe and\n",
    "for index,row in clean_df1.iterrows():\n",
    "    #use json.loads on the genres column at the position of the current index \n",
    "    jdata = json.loads(clean_df1[\"genres\"][index])\n",
    "    \n",
    "    #for each dictionary in the created variable, check which genres appear and append to the proper list\n",
    "    #DO NOT USE elif, to check if a row belongs in multiple lists use a seperate if statement for each list\n",
    "    for d in jdata:\n",
    "\n",
    "        if d[\"name\"] == \"Action\":\n",
    "            Action.append(row)\n",
    "            \n",
    "        if d[\"name\"] == \"Adventure\":\n",
    "            Adventure.append(row) \n",
    "        \n",
    "        if d[\"name\"] == \"Fantasy\":\n",
    "            Fantasy.append(row)  \n",
    "            \n",
    "        if d[\"name\"] == \"Science Fiction\":\n",
    "            Science_Fiction.append(row)  \n",
    "            \n",
    "        if d[\"name\"] == \"Crime\":\n",
    "            Crime.append(row)  \n",
    "            \n",
    "        if d[\"name\"] == \"Drama\":\n",
    "            Drama.append(row)  \n",
    "            \n",
    "        if d[\"name\"] == \"Thriller\":\n",
    "            Thriller.append(row)  \n",
    "            \n",
    "        if d[\"name\"] == \"Animation\":\n",
    "            Animation.append(row)  \n",
    "        \n",
    "        if d[\"name\"] == \"Family\":\n",
    "            Family.append(row)  \n",
    "        \n",
    "        if d[\"name\"] == \"Western\":\n",
    "            Western.append(row)  \n",
    "            \n",
    "        if d[\"name\"] == \"Comedy\":\n",
    "            Comedy.append(row)  \n",
    "            \n",
    "        if d[\"name\"] == \"Romance\":\n",
    "            Romance.append(row)  \n",
    "            \n",
    "        if d[\"name\"] == \"Horror\":\n",
    "            Horror.append(row)  \n",
    "         \n",
    "        if d[\"name\"] == \"Mystery\":\n",
    "            Mystery.append(row)  \n",
    "            \n",
    "        if d[\"name\"] == \"History\":\n",
    "            History.append(row)  \n",
    "            \n",
    "        if d[\"name\"] == \"War\":\n",
    "            War.append(row)  \n",
    "            \n",
    "        if d[\"name\"] == \"Music\":\n",
    "            Music.append(row)  \n",
    "            \n",
    "        if d[\"name\"] == \"Documentary\":\n",
    "            Documentary.append(row)  \n",
    "            \n",
    "        if d[\"name\"] == \"TV Movie\":\n",
    "            TV_Movie.append(row)      \n",
    "        \n",
    "#convert them all to dataframes\n",
    "Action_df = pd.DataFrame(Action)\n",
    "Adventure_df = pd.DataFrame(Adventure)\n",
    "Fantasy_df = pd.DataFrame(Fantasy)\n",
    "Science_Fiction_df = pd.DataFrame(Science_Fiction)\n",
    "Crime_df = pd.DataFrame(Crime)\n",
    "Drama_df = pd.DataFrame(Drama)\n",
    "Thriller_df = pd.DataFrame(Thriller)\n",
    "Animation_df = pd.DataFrame(Animation)\n",
    "Family_df = pd.DataFrame(Family)\n",
    "Western_df = pd.DataFrame(Western)\n",
    "Comedy_df = pd.DataFrame(Comedy)\n",
    "Romance_df = pd.DataFrame(Romance)\n",
    "Horror_df = pd.DataFrame(Horror)\n",
    "Mystery_df = pd.DataFrame(Mystery)\n",
    "History_df = pd.DataFrame(History)\n",
    "War_df = pd.DataFrame(War)\n",
    "Music_df = pd.DataFrame(Music)\n",
    "Documentary_df = pd.DataFrame(Documentary)\n",
    "TV_Movie_df = pd.DataFrame(TV_Movie)\n",
    "\n",
    "\n",
    "##The code under here works to be used elsewhere\n",
    "# sums = []\n",
    "# for index,row in Adventure_df.iterrows():\n",
    "#     sums.append(Adventure_df[\"vote_average\"][index])\n",
    "# averages = (sum(sums)/len(sums)).round(2)    \n",
    "# averages\n",
    "##The code above works to be used elsewhere"
   ]
  },
  {
   "cell_type": "code",
   "execution_count": 5,
   "metadata": {},
   "outputs": [
    {
     "data": {
      "text/plain": [
       "441"
      ]
     },
     "execution_count": 5,
     "metadata": {},
     "output_type": "execute_result"
    }
   ],
   "source": [
    "len(Science_Fiction_df)"
   ]
  },
  {
   "cell_type": "code",
   "execution_count": null,
   "metadata": {},
   "outputs": [],
   "source": []
  }
 ],
 "metadata": {
  "kernelspec": {
   "display_name": "Python 3",
   "language": "python",
   "name": "python3"
  },
  "language_info": {
   "codemirror_mode": {
    "name": "ipython",
    "version": 3
   },
   "file_extension": ".py",
   "mimetype": "text/x-python",
   "name": "python",
   "nbconvert_exporter": "python",
   "pygments_lexer": "ipython3",
   "version": "3.6.4"
  }
 },
 "nbformat": 4,
 "nbformat_minor": 2
}
